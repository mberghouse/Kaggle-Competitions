{
 "cells": [
  {
   "cell_type": "code",
   "execution_count": null,
   "metadata": {
    "_cell_guid": "b1076dfc-b9ad-4769-8c92-a6c4dae69d19",
    "_uuid": "8f2839f25d086af736a60e9eeb907d3b93b6e0e5"
   },
   "outputs": [],
   "source": [
    "# This Python 3 environment comes with many helpful analytics libraries installed\n",
    "# It is defined by the kaggle/python Docker image: https://github.com/kaggle/docker-python\n",
    "# For example, here's several helpful packages to load\n",
    "\n",
    "import numpy as np # linear algebra\n",
    "import pandas as pd # data processing, CSV file I/O (e.g. pd.read_csv)\n",
    "\n",
    "# Input data files are available in the read-only \"../input/\" directory\n",
    "# For example, running this (by clicking run or pressing Shift+Enter) will list all files under the input directory\n",
    "\n",
    "import os\n",
    "for dirname, _, filenames in os.walk('/kaggle/input'):\n",
    "    for filename in filenames:\n",
    "        print(os.path.join(dirname, filename))\n",
    "\n",
    "# You can write up to 20GB to the current directory (/kaggle/working/) that gets preserved as output when you create a version using \"Save & Run All\" \n",
    "# You can also write temporary files to /kaggle/temp/, but they won't be saved outside of the current session"
   ]
  },
  {
   "cell_type": "code",
   "execution_count": null,
   "metadata": {},
   "outputs": [],
   "source": [
    "import os\n",
    "import warnings\n",
    "import tensorflow as tf\n",
    "os.environ['TF_XLA_FLAGS'] = '--tf_xla_enable_xla_devices'\n",
    "\n",
    "# Seems like the new one will break jax\n",
    "#!pip install --upgrade jax jaxlib==0.4.3 git+https://github.com/deepmind/optax.git flax optax -q\n",
    "    \n",
    "if 'TPU_NAME' in os.environ and 'KAGGLE_DATA_PROXY_TOKEN' in os.environ:\n",
    "    use_tpu = True\n",
    "    \n",
    "    import requests \n",
    "    from jax.config import config\n",
    "    if 'TPU_DRIVER_MODE' not in globals():\n",
    "        url = 'http:' + os.environ['TPU_NAME'].split(':')[1] + ':8475/requestversion/tpu_driver_nightly'\n",
    "        resp = requests.post(url)\n",
    "        TPU_DRIVER_MODE = 1\n",
    "    config.FLAGS.jax_xla_backend = \"tpu_driver\"\n",
    "    config.FLAGS.jax_backend_target = os.environ['TPU_NAME']\n",
    "    # Enforce bfloat16 multiplication\n",
    "    config.update('jax_default_matmul_precision', 'bfloat16')\n",
    "    print('Registered (Kaggle) TPU:', config.FLAGS.jax_backend_target)\n",
    "else:\n",
    "    use_tpu = False"
   ]
  },
  {
   "cell_type": "code",
   "execution_count": null,
   "metadata": {},
   "outputs": [],
   "source": [
    "    \n",
    "import jax\n",
    "num_devices = jax.device_count()\n",
    "device_type = jax.devices()[0].device_kind\n",
    "\n",
    "print(f\"Found {num_devices} JAX devices of type {device_type}.\")\n",
    "assert \"TPU\" in device_type, \"Available device is not a TPU, please select TPU from Edit > Notebook settings > Hardware accelerator\""
   ]
  },
  {
   "cell_type": "code",
   "execution_count": null,
   "metadata": {},
   "outputs": [],
   "source": [
    "import functools\n",
    "from tqdm.notebook import tqdm\n",
    "\n",
    "import jax.numpy as jnp\n",
    "from jax import lax \n",
    "\n",
    "import flax\n",
    "import flax.linen as nn\n",
    "from flax.core import freeze, unfreeze\n",
    "from flax.core.frozen_dict import FrozenDict\n",
    "from flax.training.common_utils import shard, shard_prng_key\n",
    "from flax.serialization import to_state_dict, from_state_dict,\\\n",
    "                        msgpack_serialize, msgpack_restore, from_bytes\n",
    "\n",
    "import optax\n",
    "import msgpack\n",
    "#from jax_efficientnetv2 import efficientnet_v2_pretrained\n",
    "\n",
    "# Apologies for shamelessly oppressing the warnings here\n",
    "import warnings\n",
    "warnings.filterwarnings(\"ignore\")\n"
   ]
  },
  {
   "cell_type": "code",
   "execution_count": null,
   "metadata": {},
   "outputs": [],
   "source": []
  },
  {
   "cell_type": "code",
   "execution_count": null,
   "metadata": {},
   "outputs": [],
   "source": [
    "args = {\n",
    "    'experiment_name': 'starter',\n",
    "    # Efficientnetv2-m\n",
    "    'model': 'm',\n",
    "    'batch_size': 8, \n",
    "    'epochs': 16,\n",
    "    'base_lr': 7e-5, # should directly correspond to `batch_size`\n",
    "    \n",
    "    # Data / augmentation \n",
    "    'img_size': 512, # 192, 224, 331, 512\n",
    "    # The actual label number is 104\n",
    "    'num_labels': 104 if not use_tpu else 128,\n",
    "    'saving_dir': '/kaggle/working/',\n",
    "    'device_count' : jax.device_count(),\n",
    "    \n",
    "    # Debugging-purposes\n",
    "    'sanity_check': False,\n",
    "}\n",
    "\n",
    "# The effective lr should linearly scale with batch size\n",
    "args['lr'] = args['base_lr'] * args['device_count']\n",
    "if args['sanity_check']:\n",
    "    args['epochs'] = 1\n",
    "\n",
    "# Data-specific, should change for each dataset \n",
    "args['data_dir'] = '/kaggle/input/tpu-getting-started/tfrecords-jpeg-'\\\n",
    "                    + str(args['img_size'])+'x'+str(args['img_size'])\n",
    "args['train_dir'] = os.path.join(args['data_dir'], 'train')\n",
    "args['val_dir'] = os.path.join(args['data_dir'], 'val')\n",
    "args['test_dir'] = os.path.join(args['data_dir'], 'test')\n",
    "\n",
    "print('Running on', args['device_count'], 'processors')\n",
    "print(jax.devices())"
   ]
  },
  {
   "cell_type": "code",
   "execution_count": null,
   "metadata": {},
   "outputs": [],
   "source": [
    "def parse_tfr_element(element):\n",
    "  #use the same structure as above; it's kinda an outline of the structure we now want to create\n",
    "  data = {\n",
    "      't_steps': tf.io.FixedLenFeature([], tf.int64),\n",
    "      'height': tf.io.FixedLenFeature([], tf.int64),\n",
    "      'width':tf.io.FixedLenFeature([], tf.int64),\n",
    "      'raw_image' : tf.io.FixedLenFeature([], tf.string),\n",
    "      'label_t_steps': tf.io.FixedLenFeature([], tf.int64),\n",
    "      'label_height': tf.io.FixedLenFeature([], tf.int64),\n",
    "      'label_width':tf.io.FixedLenFeature([], tf.int64),\n",
    "      'raw_label' : tf.io.FixedLenFeature([], tf.string),\n",
    "    }\n",
    "\n",
    "    \n",
    "  content = tf.io.parse_single_example(element, data)\n",
    "  \n",
    "  t_steps = content['t_steps']\n",
    "  height = content['height']\n",
    "  width = content['width']\n",
    "  raw_image = content['raw_image']\n",
    "  label_t_steps = content['label_t_steps']\n",
    "  label_height = content['label_height']\n",
    "  label_width = content['label_width']\n",
    "  raw_label = content['raw_label']\n",
    "  \n",
    "  \n",
    "  \n",
    "  #get our 'feature'-- our image -- and reshape it appropriately\n",
    "  feature = tf.io.parse_tensor(raw_image, out_type=tf.double)\n",
    "  feature = tf.reshape(feature, shape=[t_steps,height,width])\n",
    "  label = tf.io.parse_tensor(raw_label, out_type=tf.double)\n",
    "  label = tf.reshape(label, shape=[label_t_steps,label_height,label_width])\n",
    "  return {'image': feature, 'label': label} "
   ]
  },
  {
   "cell_type": "code",
   "execution_count": null,
   "metadata": {},
   "outputs": [],
   "source": [
    "\n",
    "def get_dataset_small(filename):\n",
    "  #create the dataset\n",
    "  dataset = tf.data.TFRecordDataset(filename)\n",
    "\n",
    "  #pass every single feature through our mapping function\n",
    "  dataset = dataset.map(\n",
    "      parse_tfr_element\n",
    "  )\n",
    "    \n",
    "  return dataset"
   ]
  },
  {
   "cell_type": "code",
   "execution_count": null,
   "metadata": {},
   "outputs": [],
   "source": []
  },
  {
   "cell_type": "code",
   "execution_count": null,
   "metadata": {},
   "outputs": [],
   "source": [
    "import tensorflow_datasets as tfds\n",
    "\n",
    "input_dtype = jnp.bfloat16 if use_tpu else jnp.float32\n",
    "label_dtype = jnp.bfloat16\n",
    "    \n",
    "# Convert a datasample to JAX-pipeline-compatible format. last step\n",
    "def to_jax(sample):\n",
    "    sample['image'] = jnp.array(sample['image'], dtype=input_dtype)\n",
    "    sample['label'] = jnp.array(sample['label'], dtype=label_dtype)\n",
    "    # Convert labels to one_hot\n",
    "    #sample['label'] = jax.nn.one_hot(sample['label'], args['num_labels'], dtype=label_dtype, axis=-1)\n",
    "    return shard(sample)\n",
    "\n",
    "# Augmentation\n",
    "#from imgaug import augmenters as iaa\n",
    "#aug = iaa.RandAugment(n=2, m=15)\n",
    "# def tf_randaugment(sample):\n",
    "#     augment_fn = lambda img: aug(images=img.numpy())\n",
    "#     im_shape = sample['image'].shape\n",
    "#     [sample['image'],] = tf.py_function(augment_fn, [sample['image']], [tf.float32])\n",
    "#     sample['image'].set_shape(im_shape)\n",
    "#     return sample\n",
    "\n",
    "def normalize_and_resize(sample):\n",
    "    sample['image'] = tf.cast(sample['image'], tf.float32) / 128. - 1.\n",
    "    return sample\n",
    "    \n",
    "def load_dataset(filenames, labeled=True, ordered=False, shuffle_buffer_size=1, drop_remainder=False,\\\n",
    "                augment=False):\n",
    "    #AUTO = tf.data.experimental.AUTOTUNE\n",
    "    # tf.data runtime will optimize this parameter\n",
    "    dataset = tf.data.TFRecordDataset(filenames)\n",
    "\n",
    "    options = tf.data.Options()\n",
    "    if not ordered:\n",
    "        options.experimental_deterministic = False\n",
    "        \n",
    "    # Step 1: Read in the data, shuffle and batching\n",
    "    dataset = dataset.with_options(options)\\\n",
    "                .map(get_dataset_small)\\\n",
    "                .shuffle(shuffle_buffer_size)\\\n",
    "                .batch(args['batch_size'] * args['device_count'], drop_remainder=drop_remainder)\n",
    "    \n",
    "    # We exemplify augmentation using RandAugment\n",
    "    if augment:\n",
    "        dataset = dataset.map(tf_randaugment, num_parallel_calls=AUTO)\n",
    "    # Add `prefetch` at the last step to parallize as much as possible!\n",
    "    #dataset = dataset.map(normalize_and_resize).prefetch(AUTO)\n",
    "    # Finally, apply to_jax transformation\n",
    "    return map(to_jax, tfds.as_numpy(dataset))"
   ]
  },
  {
   "cell_type": "code",
   "execution_count": null,
   "metadata": {},
   "outputs": [],
   "source": [
    "from jax import random as rand\n",
    "def random_layer_params(m, n, key, scale=1e-2):\n",
    "  w_key, b_key = rand.split(key)\n",
    "  return scale * rand.normal(w_key, (n, m)), scale * rand.normal(b_key, (n,))\n",
    "\n",
    "# Initialize all layers for a fully-connected neural network with sizes \"sizes\"\n",
    "def init_network_params(sizes, key):\n",
    "  keys = rand.split(key, len(sizes))\n",
    "  return [random_layer_params(m, n, k) for m, n, k in zip(sizes[:-1], sizes[1:], keys)]\n",
    "\n",
    "layer_sizes = [400, 2000, 2000, 2000]\n",
    "step_size = 0.001\n",
    "num_epochs = 80\n",
    "batch_size = 10\n",
    "n_targets = 10\n",
    "params = init_network_params(layer_sizes, rand.PRNGKey(0))"
   ]
  },
  {
   "cell_type": "code",
   "execution_count": null,
   "metadata": {},
   "outputs": [],
   "source": [
    "@jax.jit\n",
    "def update(params, x, y):\n",
    "  grads = grad(loss)(params, x, y)\n",
    "  return [(w - step_size * dw, b - step_size * db)\n",
    "          for (w, b), (dw, db) in zip(params, grads)]"
   ]
  },
  {
   "cell_type": "code",
   "execution_count": null,
   "metadata": {},
   "outputs": [],
   "source": [
    "data = load_dataset('/kaggle/input/pflotran-train/pflotran_train.tfrecords')"
   ]
  },
  {
   "cell_type": "code",
   "execution_count": null,
   "metadata": {},
   "outputs": [],
   "source": []
  },
  {
   "cell_type": "code",
   "execution_count": null,
   "metadata": {},
   "outputs": [],
   "source": []
  },
  {
   "cell_type": "code",
   "execution_count": null,
   "metadata": {},
   "outputs": [],
   "source": []
  },
  {
   "cell_type": "code",
   "execution_count": null,
   "metadata": {},
   "outputs": [],
   "source": []
  },
  {
   "cell_type": "code",
   "execution_count": null,
   "metadata": {},
   "outputs": [],
   "source": [
    "trainloader = load_dataset(train_filenames, labeled=True, augment=True,\\\n",
    "                    ordered=False, shuffle_buffer_size=4*args['batch_size'], drop_remainder=True)"
   ]
  },
  {
   "cell_type": "code",
   "execution_count": null,
   "metadata": {},
   "outputs": [],
   "source": [
    "import time\n",
    "\n",
    "for epoch in range(num_epochs):\n",
    "  start_time = time.time()\n",
    "  for x, y in training_generator:\n",
    "    y = one_hot(y, n_targets)\n",
    "    params = update(params, x, y)\n",
    "  epoch_time = time.time() - start_time\n",
    "\n",
    "  train_acc = accuracy(params, train_images, train_labels)\n",
    "  test_acc = accuracy(params, test_images, test_labels)\n",
    "  print(\"Epoch {} in {:0.2f} sec\".format(epoch, epoch_time))\n",
    "  print(\"Training set accuracy {}\".format(train_acc))\n",
    "  print(\"Test set accuracy {}\".format(test_acc))"
   ]
  },
  {
   "cell_type": "code",
   "execution_count": 25,
   "metadata": {
    "execution": {
     "iopub.execute_input": "2024-03-18T18:22:36.788830Z",
     "iopub.status.busy": "2024-03-18T18:22:36.788463Z",
     "iopub.status.idle": "2024-03-18T18:23:14.946089Z",
     "shell.execute_reply": "2024-03-18T18:23:14.944903Z",
     "shell.execute_reply.started": "2024-03-18T18:22:36.788802Z"
    }
   },
   "outputs": [
    {
     "name": "stderr",
     "output_type": "stream",
     "text": [
      "Attaching model 'kaggle/video-swin-transformer/tensorflow2/swin-small-patch244-window877-kinetics400-1k/1' to your Kaggle notebook...\n"
     ]
    }
   ],
   "source": [
    "import tensorflow as tf\n",
    "import tensorflow_hub as hub\n",
    "\n",
    "model = hub.load(\"https://www.kaggle.com/models/kaggle/video-swin-transformer/frameworks/TensorFlow2/variations/swin-small-patch244-window877-kinetics400-1k/versions/1\")\n",
    "\n",
    "# shape_of_input = [2,3,32,224,224]   # [batch_size, channels, frames, height, width]\n",
    "# dummy_video = tf.random.normal(shape_of_input)\n",
    "\n",
    "# output = model(dummy_video)\n",
    "\n",
    "# print(output.shape)\n",
    "\n",
    "# The output shape of the example will be [1,768*******]\n"
   ]
  },
  {
   "cell_type": "code",
   "execution_count": 26,
   "metadata": {
    "execution": {
     "iopub.execute_input": "2024-03-18T18:23:24.966251Z",
     "iopub.status.busy": "2024-03-18T18:23:24.965551Z",
     "iopub.status.idle": "2024-03-18T18:23:31.602274Z",
     "shell.execute_reply": "2024-03-18T18:23:31.601188Z",
     "shell.execute_reply.started": "2024-03-18T18:23:24.966220Z"
    }
   },
   "outputs": [],
   "source": [
    "out = model(x)"
   ]
  },
  {
   "cell_type": "code",
   "execution_count": 27,
   "metadata": {
    "execution": {
     "iopub.execute_input": "2024-03-18T18:23:42.055503Z",
     "iopub.status.busy": "2024-03-18T18:23:42.054593Z",
     "iopub.status.idle": "2024-03-18T18:23:42.062524Z",
     "shell.execute_reply": "2024-03-18T18:23:42.061451Z",
     "shell.execute_reply.started": "2024-03-18T18:23:42.055457Z"
    }
   },
   "outputs": [
    {
     "data": {
      "text/plain": [
       "TensorShape([8, 768, 16, 7, 7])"
      ]
     },
     "execution_count": 27,
     "metadata": {},
     "output_type": "execute_result"
    }
   ],
   "source": [
    "out.shape"
   ]
  },
  {
   "cell_type": "code",
   "execution_count": 41,
   "metadata": {
    "execution": {
     "iopub.execute_input": "2024-03-18T18:25:44.594913Z",
     "iopub.status.busy": "2024-03-18T18:25:44.594530Z",
     "iopub.status.idle": "2024-03-18T18:25:44.740264Z",
     "shell.execute_reply": "2024-03-18T18:25:44.739376Z",
     "shell.execute_reply.started": "2024-03-18T18:25:44.594883Z"
    }
   },
   "outputs": [
    {
     "data": {
      "text/plain": [
       "<matplotlib.image.AxesImage at 0x7d57482a3ac0>"
      ]
     },
     "execution_count": 41,
     "metadata": {},
     "output_type": "execute_result"
    },
    {
     "data": {
      "image/png": "[encoded data removed]",
      "text/plain": [
       "<Figure size 640x480 with 1 Axes>"
      ]
     },
     "metadata": {},
     "output_type": "display_data"
    }
   ],
   "source": [
    "import matplotlib.pyplot as plt\n",
    "plt.imshow(out[0,0:50,0,:,5])"
   ]
  },
  {
   "cell_type": "code",
   "execution_count": null,
   "metadata": {},
   "outputs": [],
   "source": []
  },
  {
   "cell_type": "code",
   "execution_count": null,
   "metadata": {},
   "outputs": [],
   "source": [
    "### Define model and `optimizer`\n",
    "op_states = optimizer.init(model_params)\n",
    "\n",
    "### calculate `grads`\n",
    "updates, op_states = optimizer.update(grads, op_states, model_params)\n",
    "new_model_states = optax.apply_updates(model_states, updates)"
   ]
  },
  {
   "cell_type": "code",
   "execution_count": null,
   "metadata": {},
   "outputs": [],
   "source": [
    "random_key = jax.random.PRNGKey(0)\n",
    "random_key, subkey = jax.random.split(random_key)\n",
    "\n",
    "# This subkey is \"consumed\" by `get_model`\n",
    "model, model_params = get_model(subkey)\n",
    "# Cast to training dtype\n",
    "model_params = jax.tree_map(lambda x : x.astype(input_dtype), model_params)\n",
    "\n",
    "scheduler = optax.constant_schedule(args['lr'])\n",
    "optimizer = optax.chain(\n",
    "  optax.clip(1.0),\n",
    "  optax.adamw(learning_rate=scheduler, weight_decay=1e-4))\n",
    "\n",
    "# Don't throw the whole model_params in there!! else we'll be optimizing running statistics\n",
    "op_params = optimizer.init(model_params['params'])\n",
    "train_state = {'model': model_params, 'op': op_params}\n",
    "# Broadcast the train state across cores (analagously done for data via \"shard\")\n",
    "# Consider: override the name to save memory\n",
    "pl_train_state = flax.jax_utils.replicate(train_state)"
   ]
  },
  {
   "cell_type": "code",
   "execution_count": null,
   "metadata": {},
   "outputs": [],
   "source": [
    "#from pipeline_utils_jax import accuracy_fn\n",
    "from jax.scipy.special import logsumexp\n",
    "\n",
    "metric_fn = optax.l2_loss\n",
    "\n",
    "\n",
    "criterion = optax.l2_loss\n",
    "\n",
    "def training_step(apply_fn, update_fn, train_state, batch, subkey):\n",
    "    def calculate_loss(model_params, apply_fn, batch):\n",
    "        # Here the model *is* mutable!! set mutable='batch_stats' to enable dropout behavior\n",
    "        # The mutable state is {'batch_stats': ...} (this bug took me two hours)\n",
    "        logits, mutable_states = apply_fn(model_params, batch['image'], \\\n",
    "                                    mutable='batch_stats', rngs={'dropout': subkey})\n",
    "        model_params['batch_stats'] = mutable_states['batch_stats']\n",
    "        loss = criterion(logits, batch['label'])\n",
    "        # Sync batch_stats and loss across devices\n",
    "        model_params['batch_stats'] = jax.tree_map(functools.partial(lax.pmean, axis_name='devices'), \\\n",
    "                                                         model_params['batch_stats'])\n",
    "        loss = lax.pmean(criterion(logits, batch['label']), 'devices')\n",
    "        return loss, (logits, model_params)\n",
    "    \n",
    "    grad_fn = jax.value_and_grad(calculate_loss, has_aux=True)\n",
    "    (loss, (logits, train_state['model'])), grads = grad_fn(train_state['model'], apply_fn, batch)\n",
    "    # Only take the gradients for parameters, and sync across devices\n",
    "    grads = lax.pmean(grads['params'], 'devices')\n",
    "    \n",
    "    updates, train_state['op'] = update_fn(grads, train_state['op'], train_state['model']['params'])\n",
    "    train_state['model']['params'] = optax.apply_updates(train_state['model']['params'], updates)\n",
    "    \n",
    "    metric_value = lax.pmean(metric_fn(logits, batch['label']), 'devices')\n",
    "    return {'train_state': train_state, 'loss': loss, 'metric':metric_value}\n",
    "\n",
    "def val_step(apply_fn, model_params, batch):\n",
    "    # Do not enable batch statistic update (mutable=False) ^or^ stochastic behavior\n",
    "    # We do not need a rng on this forward pass because Dropout is not stochastic anymore\n",
    "    logits = apply_fn(model_params, batch['image'], mutable=False)\n",
    "    loss = lax.pmean(criterion(logits, batch['label']), 'devices')\n",
    "    # Calculate metric\n",
    "    metric_value = lax.pmean(metric_fn(logits, batch['label']), 'devices')\n",
    "    return {'loss': loss, 'metric':metric_value}\n",
    "\n",
    "train_step_parallel = jax.pmap(functools.partial(training_step, apply_fn=model.apply, update_fn=optimizer.update),\\\n",
    "         axis_name='devices')\n",
    "val_step_parallel = jax.pmap(functools.partial(val_step, apply_fn=model.apply),\\\n",
    "         axis_name='devices')"
   ]
  },
  {
   "cell_type": "code",
   "execution_count": null,
   "metadata": {},
   "outputs": [],
   "source": [
    "def save_checkpoint(log_path, logs, verbose=True):\n",
    "    with open(log_path, \"wb\") as outfile:\n",
    "        outfile.write(msgpack_serialize(to_state_dict(logs)))\n",
    "    if verbose:\n",
    "        print(\"Checkpoint written to:\", log_path)\n",
    "        \n",
    "def load_checkpoint(log_path, init_log, verbose=True):\n",
    "    # Read msgpack file\n",
    "    with open(log_path, \"rb\") as data_file:\n",
    "        byte_data = data_file.read()\n",
    "    if verbose:\n",
    "        print('Checkpoint retrieved from:', log_path)\n",
    "    return from_bytes(init_log, byte_data)"
   ]
  },
  {
   "cell_type": "code",
   "execution_count": null,
   "metadata": {},
   "outputs": [],
   "source": [
    "logs = {\n",
    "    'train_loss': [], 'train_metric': [], 'val_loss': [], 'val_metric': [], \n",
    "    'train_state': None, 'args': args}\n",
    "\n",
    "for epoch in range(args['epochs']):\n",
    "    ### Training ###\n",
    "    trainloader = load_dataset(train_filenames, labeled=True, augment=True,\\\n",
    "                    ordered=False, shuffle_buffer_size=4*args['batch_size'], drop_remainder=True)\n",
    "    # This \"total\" is specific to batch size!\n",
    "    counter = tqdm(trainloader, total=199, leave=False)\n",
    "    pl_train_state['model'] = unfreeze(pl_train_state['model'])\n",
    "    train_loss, train_metric, train_counter = 0, 0, 0\n",
    "    for batch in counter:\n",
    "        random_key, subkey = jax.random.split(random_key)\n",
    "        out = train_step_parallel(train_state=pl_train_state, batch=batch, subkey=shard_prng_key(subkey))\n",
    "        pl_train_state = out['train_state']\n",
    "        loss_value, metric_value = out['loss'][0].item(), out['metric'][0].item()\n",
    "        \n",
    "        counter.set_postfix({'loss':loss_value, 'metric':metric_value})\n",
    "        train_loss += loss_value\n",
    "        train_metric += metric_value\n",
    "        train_counter += 1\n",
    "        if args['sanity_check']:\n",
    "            break\n",
    "    pl_train_state['model'] = freeze(pl_train_state['model'])\n",
    "    train_loss, train_metric = train_loss / train_counter, train_metric / train_counter\n",
    "    \n",
    "    \n",
    "    ### Validation ###\n",
    "    valloader = load_dataset(val_filenames, labeled=True, augment=False,\\\n",
    "                    ordered=False, shuffle_buffer_size=4*args['batch_size'], drop_remainder=True)\n",
    "    \n",
    "    val_steps, val_loss, val_metric = 0, 0, 0\n",
    "    counter = tqdm(valloader, total=58, leave=False)\n",
    "    for batch in counter:\n",
    "        out = val_step_parallel(model_params=pl_train_state['model'], batch=batch)\n",
    "        loss_value, metric_value = out['loss'][0].item(), out['metric'][0].item()\n",
    "        val_loss, val_metric, val_steps = val_loss + loss_value, val_metric + metric_value,\\\n",
    "                                        val_steps + 1\n",
    "        counter.set_postfix({'val_loss':loss_value, 'val_metric':metric_value})\n",
    "        if args['sanity_check']:\n",
    "            break\n",
    "    val_metric, val_loss = val_metric / val_steps, val_loss / val_steps\n",
    "    \n",
    "    # Logging\n",
    "    logs['train_loss'].append(train_loss)\n",
    "    logs['train_metric'].append(train_metric)\n",
    "    logs['val_loss'].append(val_loss)\n",
    "    logs['val_metric'].append(val_metric)\n",
    "    \n",
    "    # Checkpointing\n",
    "    if (val_metric == max(logs['val_metric'])) or (val_loss == min(logs['val_loss'])):\n",
    "        print(f'Epoch {epoch}, loss:{train_loss:.4f} acc:{train_metric:.4f} val_loss:{val_loss:.4f} val_metric:{val_metric:.4f}')\n",
    "        out_path = os.path.join(args['saving_dir'], 'checkpoint.msgpack')\n",
    "        logs['train_state'] = jax.tree_map(lambda x : x.astype(jnp.float16), \\\n",
    "                    flax.jax_utils.unreplicate(pl_train_state))\n",
    "        save_checkpoint(out_path, logs, verbose=False)\n",
    "    # load_checkpoint(out_path, logs)"
   ]
  },
  {
   "cell_type": "code",
   "execution_count": null,
   "metadata": {},
   "outputs": [],
   "source": []
  },
  {
   "cell_type": "code",
   "execution_count": null,
   "metadata": {},
   "outputs": [],
   "source": []
  },
  {
   "cell_type": "code",
   "execution_count": null,
   "metadata": {},
   "outputs": [],
   "source": [
    "import numpy as np\n",
    "import os\n",
    "import jax.numpy as jnp\n",
    "from jax import random\n",
    "\n",
    "class VelDatasetJAX:\n",
    "    def __init__(self, x_fname, target_fname):\n",
    "        self.x_fname = x_fname\n",
    "        self.target_fname = target_fname\n",
    "\n",
    "    def __len__(self):\n",
    "        return len(self.x_fname)\n",
    "\n",
    "    def __getitem__(self, idx):\n",
    "        file1 = self.x_fname[idx]\n",
    "        file2 = self.target_fname[idx]\n",
    "        # Assuming the data is stored in a format that can be directly loaded into a NumPy array\n",
    "        # Adjust the loading mechanism if your data is stored differently\n",
    "        low_scale = torch.load(file1)[..., 0]  # Replace with the correct function to load your data\n",
    "        high_scale = torch.load(file2)[..., 0]  # Replace with the correct function to load your data\n",
    "        return np.array(low_scale), np.array(high_scale)\n",
    "\n",
    "def custom_augment(rng, input_array, label_array):\n",
    "    # Random flip over the middle of the 2nd to last dimension\n",
    "    if random.uniform(rng) < 0.5:\n",
    "        input_array = np.flip(input_array, axis=-2)\n",
    "        label_array = np.flip(label_array, axis=-2)\n",
    "\n",
    "    # Random flip over the last dimension\n",
    "    if random.uniform(rng) < 0.5:\n",
    "        input_array = np.flip(input_array, axis=-1)\n",
    "        label_array = np.flip(label_array, axis=-1)\n",
    "\n",
    "    return input_array, label_array"
   ]
  },
  {
   "cell_type": "code",
   "execution_count": null,
   "metadata": {},
   "outputs": [],
   "source": [
    "def batch_generator(dataset, batch_size, shuffle=True, rng_key=random.PRNGKey(0)):\n",
    "    indices = np.arange(len(dataset))\n",
    "    if shuffle:\n",
    "        rng_key, sub_key = random.split(rng_key)\n",
    "        indices = random.permutation(sub_key, indices)\n",
    "\n",
    "    for start_idx in range(0, len(dataset), batch_size):\n",
    "        batch_indices = indices[start_idx:start_idx + batch_size]\n",
    "        batch = [dataset[i] for i in batch_indices]\n",
    "\n",
    "        x_batch, y_batch = zip(*batch)\n",
    "        x_batch = np.stack(x_batch)\n",
    "        y_batch = np.stack(y_batch)\n",
    "\n",
    "        # Apply augmentations\n",
    "        for i in range(len(x_batch)):\n",
    "            rng_key, sub_key = random.split(rng_key)\n",
    "            x_batch[i], y_batch[i] = custom_augment(sub_key, x_batch[i], y_batch[i])\n",
    "\n",
    "        yield np.array(x_batch), np.array(y_batch)"
   ]
  },
  {
   "cell_type": "code",
   "execution_count": null,
   "metadata": {},
   "outputs": [],
   "source": [
    "import optax\n",
    "#import jit\n",
    "# Define your initial learning rate\n",
    "initial_learning_rate = 0.001\n",
    "import numpy as np\n",
    "import pandas as pd\n",
    "import os\n",
    "from jax import grad, jit\n",
    "import h5py\n",
    "#import cv2\n",
    "import torch\n",
    "import torch.nn as nn\n",
    "import torch.optim as optim\n",
    "from torch.utils.data import DataLoader\n",
    "import torch.nn.functional as F\n",
    "from torch.utils.data import Dataset, DataLoader\n",
    "\n",
    "base_dir = '/kaggle/input/pflotran-data/'\n",
    "f_dir = os.listdir(base_dir)\n",
    "h5_files = []\n",
    "h5_files_train = []\n",
    "h5_files_train_1x = []\n",
    "# Iterate over all files in the directory\n",
    "for filename in f_dir:\n",
    "    if (filename.endswith(\".pt\")) & (((\"2x\" in filename))):\n",
    "        h5_files_train.append(base_dir+filename)\n",
    "    if (filename.endswith(\".pt\")) & (((\"1x\" in filename))):\n",
    "        h5_files_train_1x.append(base_dir+filename)\n",
    "#     if (filename.endswith(\".h5\")) & ((\"8x\" in filename)):\n",
    "#         if ((\"10_5\" not in filename) & (\"20_20\" not in filename)):\n",
    "#             h5_files_train.append(base_dir+filename)\n",
    "    if (filename.endswith(\".pt\")) & (((\"10x\" in filename))):\n",
    "#         if ((\"10_5\" in filename) | (\"20_20\" in filename)):\n",
    "        h5_files.append(base_dir+filename)\n",
    "# Run the processing in parallel\n",
    "h5_files = np.array(h5_files)\n",
    "h5_files_train = np.array(h5_files_train)\n",
    "arr = h5_files\n",
    "contains_hanford = np.array(['hanford' in item for item in arr])\n",
    "\n",
    "# Alphabetical sorting key\n",
    "alphabetical_order = np.argsort(arr)\n",
    "\n",
    "# Prioritize \"hanford\" and then sort alphabetically within each group\n",
    "sorted_indices = np.lexsort((alphabetical_order, ~contains_hanford))\n",
    "\n",
    "# Use sorted indices to reorder the array\n",
    "sorted_arr = arr[sorted_indices]\n",
    "sorted_arr\n",
    "\n",
    "sorted_arr2 = h5_files_train[sorted_indices]\n",
    "xtest = sorted_arr2[0:33:5]\n",
    "xtrain = sorted_arr2[34::5]#np.concatenate([sorted_arr2[33:50:3], sorted_arr2[50:]])\n",
    "\n",
    "\n",
    "ytest = sorted_arr[0:33:5]\n",
    "ytrain = sorted_arr[34::5]#np.concatenate([sorted_arr[33:50:3], sorted_arr[50:]])\n",
    "print(ytrain)\n",
    "\n",
    "#h5_files = h5_files[0:6]\n",
    "#h5_files_train = h5_files_train[0:6]\n",
    "from torch.utils.data import Dataset\n",
    "\n",
    "h5_files = np.sort(h5_files)\n",
    "h5_files_train=np.sort(h5_files_train)\n",
    "h5_files_train_1x=np.sort(h5_files_train_1x)\n",
    "\n",
    "num_time_steps = 80\n",
    "num_features = 6  # As obs\n",
    "\n",
    "# Define your decay rate and steps\n",
    "decay_rate = 0.99\n",
    "decay_steps = 100\n",
    "dataset = VelDatasetJAX(xtrain, xtrain)\n",
    "# Create an exponentially decaying learning rate schedule\n",
    "# lr_schedule = optax.exponential_decay(init_value=initial_learning_rate,\n",
    "#                                       transition_steps=decay_steps,\n",
    "#                                       decay_rate=decay_rate)\n",
    "\n",
    "# # Combine the learning rate schedule with your optimizer\n",
    "# optimizer = optax.chain(\n",
    "#     optax.scale_by_adam(),  # Or any other optimizer\n",
    "#     optax.scale_by_schedule(lr_schedule)\n",
    "# )\n",
    "# def model_fn(params, x):\n",
    "#     # Dummy model function\n",
    "#     return x @ params\n",
    "\n",
    "# def loss_fn(params, x, y):\n",
    "#     # Example loss function\n",
    "#     preds = model_fn(params, x)\n",
    "#     return jnp.mean((preds - y) ** 2)\n",
    "\n",
    "\n",
    "# # Initialize your model parameters and optimizer state\n",
    "# params = jax.random.normal(jax.random.PRNGKey(0), (14,114,100,400))  # Example model parameters initialization\n",
    "# opt_state = optimizer.init(params)\n",
    "\n",
    "# # Update function with learning rate schedule\n",
    "# @jax.jit\n",
    "# def update(params, opt_state, x, y, step):\n",
    "#     grads = grad(loss_fn)(params, x, y)\n",
    "#     updates, opt_state = optimizer.update(grads, opt_state, params)\n",
    "#     new_params = optax.apply_updates(params, updates)\n",
    "#     return new_params, opt_state\n",
    "\n",
    "# # Training loop with LR scheduler\n",
    "# epochs = 10\n",
    "# batch_size = 32\n",
    "# steps_per_epoch = len(dataset) // batch_size\n",
    "# total_steps = epochs * steps_per_epoch\n",
    "\n",
    "# for epoch in range(epochs):\n",
    "#     rng_key = jax.random.PRNGKey(epoch)  # New RNG key for each epoch\n",
    "#     step = 0\n",
    "#     for x_batch, y_batch in batch_generator(dataset, batch_size, rng_key=rng_key):\n",
    "#         params, opt_state = update(params, opt_state, x_batch, y_batch, step)\n",
    "#         step += 1\n",
    "#     print(f\"Epoch {epoch+1} completed.\")"
   ]
  },
  {
   "cell_type": "code",
   "execution_count": null,
   "metadata": {},
   "outputs": [],
   "source": [
    "import jax\n",
    "import jax.numpy as jnp\n",
    "from flax import linen as nn\n",
    "import optax\n",
    "from jax import random\n",
    "\n",
    "# Assuming `xtrain` and `ytrain` are pre-processed datasets compatible with JAX\n",
    "# Assuming custom_augment function is adjusted for JAX, using jax.numpy operations\n",
    "\n",
    "class UpsampleSmall(nn.Module):\n",
    "    @nn.compact\n",
    "    def __call__(self, x):\n",
    "        x = x.repeat(40, axis=3)  # Assuming the equivalent operation is performed for JAX arrays\n",
    "        x = nn.Dense(features=8000)(x)\n",
    "        x = jax.nn.relu(x)\n",
    "        x = nn.Dense(features=4000)(x)\n",
    "        x = jax.nn.relu(x)\n",
    "        x = nn.Dense(features=2000)(x)\n",
    "        x = jax.nn.relu(x)\n",
    "        x = nn.Dense(features=2000)(x)\n",
    "        return x\n",
    "\n",
    "def mse_loss(predictions, targets):\n",
    "    return jnp.mean((predictions - targets) ** 2)\n",
    "\n",
    "#@jax.jit\n",
    "def update(params, opt_state, x, y):\n",
    "    grads = grad(mse_loss)(params, x, y)\n",
    "    updates, opt_state = optimizer.update(grads, opt_state)\n",
    "    new_params = optax.apply_updates(params, updates)\n",
    "    return new_params, opt_state\n",
    "\n",
    "# Initialize parameters\n",
    "rng = random.PRNGKey(0)\n",
    "init_rng, dropout_rng = random.split(rng)\n",
    "init_shape = jnp.ones((2, 114, 100,400), jnp.float32)  # Example input shape\n",
    "params = UpsampleSmall().init(init_rng, init_shape)['params']\n",
    "\n",
    "# Initialize optimizer\n",
    "optimizer = optax.adam(learning_rate=0.0001)\n",
    "opt_state = optimizer.init(params)\n",
    "batch_size=2\n",
    "# Training loop\n",
    "num_epochs = 5\n",
    "for epoch in range(num_epochs):\n",
    "    # Example: Update parameters using a single batch (x_batch, y_batch)\n",
    "    # In practice, iterate over your dataset here\n",
    "    rng_key = jax.random.PRNGKey(epoch)\n",
    "    for x_batch, y_batch in batch_generator(dataset, batch_size, rng_key=rng_key):\n",
    "        updates, opt_state = update(optimizer, params, x_batch, y_batch)\n",
    "        params = optax.apply_updates(params, updates)\n",
    "    "
   ]
  },
  {
   "cell_type": "code",
   "execution_count": null,
   "metadata": {},
   "outputs": [],
   "source": [
    "jax.clear_caches()"
   ]
  },
  {
   "cell_type": "code",
   "execution_count": null,
   "metadata": {},
   "outputs": [],
   "source": [
    "loaded_npz1['high_losing_27_8_10xscale/data.pkl']"
   ]
  },
  {
   "cell_type": "code",
   "execution_count": null,
   "metadata": {},
   "outputs": [],
   "source": []
  },
  {
   "cell_type": "code",
   "execution_count": null,
   "metadata": {},
   "outputs": [],
   "source": []
  },
  {
   "cell_type": "code",
   "execution_count": null,
   "metadata": {},
   "outputs": [],
   "source": []
  },
  {
   "cell_type": "markdown",
   "metadata": {},
   "source": [
    "## New Jax Section"
   ]
  },
  {
   "cell_type": "code",
   "execution_count": 1,
   "metadata": {
    "execution": {
     "iopub.execute_input": "2024-02-28T01:57:14.985492Z",
     "iopub.status.busy": "2024-02-28T01:57:14.985125Z",
     "iopub.status.idle": "2024-02-28T01:57:18.223238Z",
     "shell.execute_reply": "2024-02-28T01:57:18.222505Z",
     "shell.execute_reply.started": "2024-02-28T01:57:14.985459Z"
    }
   },
   "outputs": [],
   "source": [
    "import os\n",
    "import warnings\n",
    "import tensorflow as tf\n",
    "import jax\n",
    "#os.environ['TF_XLA_FLAGS'] = '--tf_xla_enable_xla_devices'\n",
    "\n",
    "# Seems like the new one will break jax\n",
    "#!pip install --upgrade jax jaxlib==0.4.3 git+https://github.com/deepmind/optax.git flax optax -q\n",
    "    \n",
    "if 'TPU_NAME' in os.environ and 'KAGGLE_DATA_PROXY_TOKEN' in os.environ:\n",
    "    use_tpu = True\n",
    "    \n",
    "    import requests \n",
    "    from jax.config import config\n",
    "    if 'TPU_DRIVER_MODE' not in globals():\n",
    "        url = 'http:' + os.environ['TPU_NAME'].split(':')[1] + ':8475/requestversion/tpu_driver_nightly'\n",
    "        resp = requests.post(url)\n",
    "        TPU_DRIVER_MODE = 1\n",
    "    config.FLAGS.jax_xla_backend = \"tpu_driver\"\n",
    "    config.FLAGS.jax_backend_target = os.environ['TPU_NAME']\n",
    "    # Enforce bfloat16 multiplication\n",
    "    config.update('jax_default_matmul_precision', 'bfloat16')\n",
    "    print('Registered (Kaggle) TPU:', config.FLAGS.jax_backend_target)\n",
    "else:\n",
    "    use_tpu = False"
   ]
  },
  {
   "cell_type": "code",
   "execution_count": 3,
   "metadata": {
    "execution": {
     "iopub.execute_input": "2024-02-28T01:57:35.221087Z",
     "iopub.status.busy": "2024-02-28T01:57:35.220749Z",
     "iopub.status.idle": "2024-02-28T01:57:35.225134Z",
     "shell.execute_reply": "2024-02-28T01:57:35.224374Z",
     "shell.execute_reply.started": "2024-02-28T01:57:35.221058Z"
    }
   },
   "outputs": [],
   "source": [
    "import jax.numpy as jnp\n",
    "from jax import grad, jit, vmap\n",
    "from jax import random"
   ]
  },
  {
   "cell_type": "code",
   "execution_count": 4,
   "metadata": {
    "execution": {
     "iopub.execute_input": "2024-02-28T01:57:35.421848Z",
     "iopub.status.busy": "2024-02-28T01:57:35.421534Z",
     "iopub.status.idle": "2024-02-28T01:57:41.200123Z",
     "shell.execute_reply": "2024-02-28T01:57:41.199134Z",
     "shell.execute_reply.started": "2024-02-28T01:57:35.421820Z"
    }
   },
   "outputs": [],
   "source": [
    "# A helper function to randomly initialize weights and biases\n",
    "# for a dense neural network layer\n",
    "def random_layer_params(m, n, key, scale=1e-2):\n",
    "  w_key, b_key = random.split(key)\n",
    "  return scale * random.normal(w_key, (n, m)), scale * random.normal(b_key, (n,))\n",
    "\n",
    "# Initialize all layers for a fully-connected neural network with sizes \"sizes\"\n",
    "def init_network_params(sizes, key):\n",
    "  keys = random.split(key, len(sizes))\n",
    "  return [random_layer_params(m, n, k) for m, n, k in zip(sizes[:-1], sizes[1:], keys)]\n",
    "\n",
    "layer_sizes = [400, 4000, 2000]\n",
    "step_size = 0.001\n",
    "num_epochs = 80\n",
    "batch_size = 16\n",
    "n_targets = 16\n",
    "params = init_network_params(layer_sizes, random.PRNGKey(0))"
   ]
  },
  {
   "cell_type": "code",
   "execution_count": 5,
   "metadata": {
    "execution": {
     "iopub.execute_input": "2024-02-28T01:57:41.202487Z",
     "iopub.status.busy": "2024-02-28T01:57:41.202120Z",
     "iopub.status.idle": "2024-02-28T01:57:41.211253Z",
     "shell.execute_reply": "2024-02-28T01:57:41.210317Z",
     "shell.execute_reply.started": "2024-02-28T01:57:41.202447Z"
    }
   },
   "outputs": [
    {
     "data": {
      "text/plain": [
       "(4000,)"
      ]
     },
     "execution_count": 5,
     "metadata": {},
     "output_type": "execute_result"
    }
   ],
   "source": [
    "(params[0][1].shape)"
   ]
  },
  {
   "cell_type": "code",
   "execution_count": 6,
   "metadata": {
    "execution": {
     "iopub.execute_input": "2024-02-28T01:57:41.212892Z",
     "iopub.status.busy": "2024-02-28T01:57:41.212517Z",
     "iopub.status.idle": "2024-02-28T01:57:41.238866Z",
     "shell.execute_reply": "2024-02-28T01:57:41.238054Z",
     "shell.execute_reply.started": "2024-02-28T01:57:41.212847Z"
    }
   },
   "outputs": [],
   "source": [
    "from jax.scipy.special import logsumexp\n",
    "\n",
    "def relu(x):\n",
    "  return jnp.maximum(0, x)\n",
    "\n",
    "def predict(params, image):\n",
    "    # Assuming image has shape [batch, ..., features]\n",
    "    activations = image\n",
    "    for w, b in params[:-1]:\n",
    "        # Reshape activations to [-1, features] to treat all leading dims as batch dims\n",
    "        original_shape = activations.shape[:-1]  # Save original shape without the last dim\n",
    "        features = activations.shape[-1]\n",
    "        activations_reshaped = activations.reshape(-1, features)\n",
    "        \n",
    "        # Perform operations on the reshaped activations\n",
    "        outputs = jnp.dot(activations_reshaped, w.T) + b  # Note: Adjusted for correct matrix multiplication\n",
    "        activations = relu(outputs)\n",
    "        \n",
    "        # Reshape back to original batch dims with new features\n",
    "        activations = activations.reshape(*original_shape, -1)\n",
    "\n",
    "    # Handle the final layer\n",
    "    final_w, final_b = params[-1]\n",
    "    activations_reshaped = activations.reshape(-1, activations.shape[-1])\n",
    "    logits = jnp.dot(activations_reshaped, final_w.T) + final_b\n",
    "    logits = jnp.reshape(logits, (114, 100, 2000))\n",
    "    # No need to reshape logits back, unless you have a specific reason to maintain the original batch shape\n",
    "\n",
    "    return logits #- logsumexp(logits, axis=-1, keepdims=True)"
   ]
  },
  {
   "cell_type": "code",
   "execution_count": 7,
   "metadata": {
    "execution": {
     "iopub.execute_input": "2024-02-28T01:57:41.240923Z",
     "iopub.status.busy": "2024-02-28T01:57:41.240619Z",
     "iopub.status.idle": "2024-02-28T01:57:41.244536Z",
     "shell.execute_reply": "2024-02-28T01:57:41.243560Z",
     "shell.execute_reply.started": "2024-02-28T01:57:41.240892Z"
    }
   },
   "outputs": [],
   "source": [
    "# random_flattened_image = random.normal(random.PRNGKey(1), (114,100,400,))\n",
    "# preds = predict(params, random_flattened_image)\n",
    "# print(preds.shape)"
   ]
  },
  {
   "cell_type": "code",
   "execution_count": 8,
   "metadata": {
    "execution": {
     "iopub.execute_input": "2024-02-28T01:57:41.245774Z",
     "iopub.status.busy": "2024-02-28T01:57:41.245503Z",
     "iopub.status.idle": "2024-02-28T01:57:41.255975Z",
     "shell.execute_reply": "2024-02-28T01:57:41.255313Z",
     "shell.execute_reply.started": "2024-02-28T01:57:41.245746Z"
    }
   },
   "outputs": [],
   "source": [
    "# # Doesn't work with a batch\n",
    "# random_flattened_images = random.normal(random.PRNGKey(1), (10,114,100,400,))\n",
    "# try:\n",
    "#   preds = predict(params, random_flattened_images)\n",
    "# except TypeError:\n",
    "#   print('Invalid shapes!')"
   ]
  },
  {
   "cell_type": "code",
   "execution_count": 9,
   "metadata": {
    "execution": {
     "iopub.execute_input": "2024-02-28T01:57:41.256973Z",
     "iopub.status.busy": "2024-02-28T01:57:41.256751Z",
     "iopub.status.idle": "2024-02-28T01:57:41.264542Z",
     "shell.execute_reply": "2024-02-28T01:57:41.263896Z",
     "shell.execute_reply.started": "2024-02-28T01:57:41.256948Z"
    }
   },
   "outputs": [],
   "source": [
    "# Let's upgrade it to handle batches using `vmap`\n",
    "\n",
    "# Make a batched version of the `predict` function\n",
    "batched_predict = vmap(predict, in_axes=(None, 0))\n",
    "\n",
    "# `batched_predict` has the same call signature as `predict`\n",
    "#batched_preds = batched_predict(params, random_flattened_images)\n",
    "#print(batched_preds.shape)"
   ]
  },
  {
   "cell_type": "code",
   "execution_count": 10,
   "metadata": {
    "execution": {
     "iopub.execute_input": "2024-02-28T01:57:41.265576Z",
     "iopub.status.busy": "2024-02-28T01:57:41.265346Z",
     "iopub.status.idle": "2024-02-28T01:57:41.598756Z",
     "shell.execute_reply": "2024-02-28T01:57:41.597804Z",
     "shell.execute_reply.started": "2024-02-28T01:57:41.265551Z"
    }
   },
   "outputs": [],
   "source": [
    "from jax import value_and_grad\n",
    "import optax\n",
    "\n",
    "def one_hot(x, k, dtype=jnp.float32):\n",
    "  \"\"\"Create a one-hot encoding of x of size k.\"\"\"\n",
    "  return jnp.array(x[:, None] == jnp.arange(k), dtype)\n",
    "  \n",
    "def accuracy(params, images, targets):\n",
    "  target_class = jnp.argmax(targets, axis=1)\n",
    "  predicted_class = jnp.argmax(batched_predict(params, images), axis=1)\n",
    "  return jnp.mean(predicted_class == target_class)\n",
    "\n",
    "def loss(params, images, targets):\n",
    "  preds = batched_predict(params, images)\n",
    "  return jnp.mean(optax.l2_loss( preds, targets))\n",
    "\n",
    "def update(params, opt_state, x, y):\n",
    "    # Compute the loss and gradients\n",
    "    loss_value, grads = value_and_grad(loss)(params, x, y)\n",
    "    \n",
    "    # Apply the optimizer to update the gradients and the optimizer state\n",
    "    updates, new_opt_state = optimizer.update(grads, opt_state)\n",
    "    \n",
    "    # Apply updates to the parameters\n",
    "    new_params = optax.apply_updates(params, updates)\n",
    "    \n",
    "    return new_params, new_opt_state, loss_value"
   ]
  },
  {
   "cell_type": "code",
   "execution_count": 16,
   "metadata": {
    "execution": {
     "iopub.execute_input": "2024-03-18T12:42:20.184456Z",
     "iopub.status.busy": "2024-03-18T12:42:20.184071Z",
     "iopub.status.idle": "2024-03-18T12:42:20.194681Z",
     "shell.execute_reply": "2024-03-18T12:42:20.193392Z",
     "shell.execute_reply.started": "2024-03-18T12:42:20.184427Z"
    }
   },
   "outputs": [
    {
     "data": {
      "text/plain": [
       "(16, 114, 100, 400)"
      ]
     },
     "execution_count": 16,
     "metadata": {},
     "output_type": "execute_result"
    }
   ],
   "source": [
    "x.shape"
   ]
  },
  {
   "cell_type": "code",
   "execution_count": 19,
   "metadata": {
    "execution": {
     "iopub.execute_input": "2024-03-18T18:21:16.649367Z",
     "iopub.status.busy": "2024-03-18T18:21:16.648435Z",
     "iopub.status.idle": "2024-03-18T18:21:16.662419Z",
     "shell.execute_reply": "2024-03-18T18:21:16.661339Z",
     "shell.execute_reply.started": "2024-03-18T18:21:16.649327Z"
    }
   },
   "outputs": [],
   "source": [
    "import numpy as np\n",
    "import os\n",
    "import jax.numpy as jnp\n",
    "from jax import random\n",
    "import torch \n",
    "import torch.nn.functional as F\n",
    "\n",
    "class VelDatasetJAX:\n",
    "    def __init__(self, x_fname, target_fname):\n",
    "        self.x_fname = x_fname\n",
    "        self.target_fname = target_fname\n",
    "\n",
    "    def __len__(self):\n",
    "        return len(self.x_fname)\n",
    "\n",
    "    def __getitem__(self, idx):\n",
    "        file1 = self.x_fname[idx]\n",
    "        file2 = self.target_fname[idx]\n",
    "        # Assuming the data is stored in a format that can be directly loaded into a NumPy array\n",
    "        # Adjust the loading mechanism if your data is stored differently\n",
    "        low_scale = torch.load(file1)[20:52,:,100:100+224,:] \n",
    "        low_scale = low_scale.permute(3,0,1,2)\n",
    "        # Replace with the correct function to load your data\n",
    "        high_scale = torch.load(file2)[20:52,:,500:int(500+224*5),0]  # Replace with the correct function to load your data\n",
    "        low_scale = F.interpolate(low_scale,  # Add batch dimension\n",
    "                                      size=(224,224),  # target size\n",
    "                                      mode='bicubic',  # or 'nearest', 'bicubic'\n",
    "                                      align_corners=False)\n",
    "        \n",
    "        #low_scale = low_scale.permute(1,2,3,0)\n",
    "        low_scale = low_scale.repeat(3, 1, 1, 1)#.permute(3,0,1,2)\n",
    "        \n",
    "\n",
    "        print (low_scale.shape)\n",
    "        return low_scale, high_scale\n",
    "\n",
    "# def custom_augment(rng, input_array, label_array):\n",
    "#     # Random flip over the middle of the 2nd to last dimension\n",
    "#     if random.uniform(rng) < 0.5:\n",
    "#         input_array = np.flip(input_array, axis=-2)\n",
    "#         label_array = np.flip(label_array, axis=-2)\n",
    "\n",
    "#     # Random flip over the last dimension\n",
    "#     if random.uniform(rng) < 0.5:\n",
    "#         input_array = np.flip(input_array, axis=-1)\n",
    "#         label_array = np.flip(label_array, axis=-1)\n",
    "\n",
    "   # return input_array, label_array"
   ]
  },
  {
   "cell_type": "code",
   "execution_count": 20,
   "metadata": {
    "execution": {
     "iopub.execute_input": "2024-03-18T18:21:16.871078Z",
     "iopub.status.busy": "2024-03-18T18:21:16.870533Z",
     "iopub.status.idle": "2024-03-18T18:21:16.887092Z",
     "shell.execute_reply": "2024-03-18T18:21:16.885877Z",
     "shell.execute_reply.started": "2024-03-18T18:21:16.871033Z"
    }
   },
   "outputs": [
    {
     "name": "stdout",
     "output_type": "stream",
     "text": [
      "['/kaggle/input/pflotran-data/high_losing_27_8_10xscale.pt'\n",
      " '/kaggle/input/pflotran-data/high_gaining_14_10_10xscale.pt'\n",
      " '/kaggle/input/pflotran-data/high_gaining_right_38_16_10xscale.pt'\n",
      " '/kaggle/input/pflotran-data/high_losing_34_15_10xscale.pt'\n",
      " '/kaggle/input/pflotran-data/high_losing_47_9_10xscale.pt'\n",
      " '/kaggle/input/pflotran-data/high_losing_22_21_10xscale.pt'\n",
      " '/kaggle/input/pflotran-data/gaining_51_10_10xscale.pt'\n",
      " '/kaggle/input/pflotran-data/high_gaining_right_41_17_10xscale.pt'\n",
      " '/kaggle/input/pflotran-data/high_gaining_37_9_10xscale.pt'\n",
      " '/kaggle/input/pflotran-data/high_gaining_right_46_10_10xscale.pt'\n",
      " '/kaggle/input/pflotran-data/high_losing_37_9_10xscale.pt'\n",
      " '/kaggle/input/pflotran-data/gaining_34_6_10xscale.pt'\n",
      " '/kaggle/input/pflotran-data/high_gaining_right_49_24_10xscale.pt'\n",
      " '/kaggle/input/pflotran-data/high_losing_14_10_10xscale.pt'\n",
      " '/kaggle/input/pflotran-data/gaining_49_10_10xscale.pt'\n",
      " '/kaggle/input/pflotran-data/high_losing_35_23_10xscale.pt'\n",
      " '/kaggle/input/pflotran-data/high_gaining_18_19_10xscale.pt'\n",
      " '/kaggle/input/pflotran-data/high_losing_41_17_10xscale.pt'\n",
      " '/kaggle/input/pflotran-data/high_gaining_right_40_8_10xscale.pt'\n",
      " '/kaggle/input/pflotran-data/gaining_27_7_10xscale.pt'\n",
      " '/kaggle/input/pflotran-data/gaining_46_17_10xscale.pt'\n",
      " '/kaggle/input/pflotran-data/high_gaining_right_34_6_10xscale.pt'\n",
      " '/kaggle/input/pflotran-data/high_gaining_right_39_10_10xscale.pt'\n",
      " '/kaggle/input/pflotran-data/high_gaining_39_13_10xscale.pt'\n",
      " '/kaggle/input/pflotran-data/high_losing_57_8_10xscale.pt'\n",
      " '/kaggle/input/pflotran-data/high_losing_30_15_10xscale.pt'\n",
      " '/kaggle/input/pflotran-data/gaining_49_24_10xscale.pt'\n",
      " '/kaggle/input/pflotran-data/high_gaining_34_21_10xscale.pt'\n",
      " '/kaggle/input/pflotran-data/high_losing_49_24_10xscale.pt'\n",
      " '/kaggle/input/pflotran-data/high_losing_26_16_10xscale.pt'\n",
      " '/kaggle/input/pflotran-data/high_losing_22_16_10xscale.pt'\n",
      " '/kaggle/input/pflotran-data/high_losing_39_10_10xscale.pt'\n",
      " '/kaggle/input/pflotran-data/high_losing_31_7_10xscale.pt'\n",
      " '/kaggle/input/pflotran-data/gaining_33_24_10xscale.pt'\n",
      " '/kaggle/input/pflotran-data/high_gaining_right_35_7_10xscale.pt'\n",
      " '/kaggle/input/pflotran-data/high_losing_34_21_10xscale.pt'\n",
      " '/kaggle/input/pflotran-data/high_gaining_41_20_10xscale.pt'\n",
      " '/kaggle/input/pflotran-data/gaining_30_15_10xscale.pt'\n",
      " '/kaggle/input/pflotran-data/high_losing_36_18_10xscale.pt'\n",
      " '/kaggle/input/pflotran-data/high_gaining_50_10_10xscale.pt'\n",
      " '/kaggle/input/pflotran-data/high_gaining_46_10_10xscale.pt'\n",
      " '/kaggle/input/pflotran-data/gaining_38_16_10xscale.pt'\n",
      " '/kaggle/input/pflotran-data/high_gaining_27_14_10xscale.pt'\n",
      " '/kaggle/input/pflotran-data/high_losing_41_12_10xscale.pt'\n",
      " '/kaggle/input/pflotran-data/high_losing_18_10_10xscale.pt'\n",
      " '/kaggle/input/pflotran-data/high_gaining_52_8_10xscale.pt'\n",
      " '/kaggle/input/pflotran-data/gaining_36_11_10xscale.pt'\n",
      " '/kaggle/input/pflotran-data/high_losing_45_19_10xscale.pt'\n",
      " '/kaggle/input/pflotran-data/high_gaining_33_15_10xscale.pt'\n",
      " '/kaggle/input/pflotran-data/gaining_42_11_10xscale.pt'\n",
      " '/kaggle/input/pflotran-data/high_gaining_40_8_10xscale.pt'\n",
      " '/kaggle/input/pflotran-data/high_losing_35_7_10xscale.pt'\n",
      " '/kaggle/input/pflotran-data/high_gaining_35_7_10xscale.pt'\n",
      " '/kaggle/input/pflotran-data/high_losing_40_20_10xscale.pt'\n",
      " '/kaggle/input/pflotran-data/high_gaining_right_41_12_10xscale.pt'\n",
      " '/kaggle/input/pflotran-data/high_losing_50_25_10xscale.pt'\n",
      " '/kaggle/input/pflotran-data/high_losing_39_13_10xscale.pt'\n",
      " '/kaggle/input/pflotran-data/high_gaining_29_9_10xscale.pt'\n",
      " '/kaggle/input/pflotran-data/high_gaining_right_49_19_10xscale.pt'\n",
      " '/kaggle/input/pflotran-data/high_gaining_47_9_10xscale.pt'\n",
      " '/kaggle/input/pflotran-data/gaining_40_17_10xscale.pt'\n",
      " '/kaggle/input/pflotran-data/high_gaining_45_9_10xscale.pt'\n",
      " '/kaggle/input/pflotran-data/high_gaining_right_35_23_10xscale.pt'\n",
      " '/kaggle/input/pflotran-data/gaining_17_22_10xscale.pt'\n",
      " '/kaggle/input/pflotran-data/gaining_22_16_10xscale.pt'\n",
      " '/kaggle/input/pflotran-data/high_gaining_24_17_10xscale.pt'\n",
      " '/kaggle/input/pflotran-data/gaining_25_15_10xscale.pt'\n",
      " '/kaggle/input/pflotran-data/high_losing_49_19_10xscale.pt']\n"
     ]
    }
   ],
   "source": [
    "base_dir = '/kaggle/input/pflotran-data/'\n",
    "f_dir = os.listdir(base_dir)\n",
    "h5_files = []\n",
    "h5_files_train = []\n",
    "h5_files_train_1x = []\n",
    "# Iterate over all files in the directory\n",
    "for filename in f_dir:\n",
    "    if (filename.endswith(\".pt\")) & (((\"2x\" in filename))):\n",
    "        h5_files_train.append(base_dir+filename)\n",
    "    if (filename.endswith(\".pt\")) & (((\"1x\" in filename))):\n",
    "        h5_files_train_1x.append(base_dir+filename)\n",
    "#     if (filename.endswith(\".h5\")) & ((\"8x\" in filename)):\n",
    "#         if ((\"10_5\" not in filename) & (\"20_20\" not in filename)):\n",
    "#             h5_files_train.append(base_dir+filename)\n",
    "    if (filename.endswith(\".pt\")) & (((\"10x\" in filename))):\n",
    "#         if ((\"10_5\" in filename) | (\"20_20\" in filename)):\n",
    "        h5_files.append(base_dir+filename)\n",
    "# Run the processing in parallel\n",
    "h5_files = np.array(h5_files)\n",
    "h5_files_train = np.array(h5_files_train)\n",
    "arr = h5_files\n",
    "contains_hanford = np.array(['hanford' in item for item in arr])\n",
    "\n",
    "# Alphabetical sorting key\n",
    "alphabetical_order = np.argsort(arr)\n",
    "\n",
    "# Prioritize \"hanford\" and then sort alphabetically within each group\n",
    "sorted_indices = np.lexsort((alphabetical_order, ~contains_hanford))\n",
    "\n",
    "# Use sorted indices to reorder the array\n",
    "sorted_arr = arr[sorted_indices]\n",
    "sorted_arr\n",
    "\n",
    "sorted_arr2 = h5_files_train[sorted_indices]\n",
    "xtest = sorted_arr2[0:33]\n",
    "xtrain = sorted_arr2[34:]#np.concatenate([sorted_arr2[33:50:3], sorted_arr2[50:]])\n",
    "\n",
    "\n",
    "ytest = sorted_arr[0:33]\n",
    "ytrain = sorted_arr[34:]#np.concatenate([sorted_arr[33:50:3], sorted_arr[50:]])\n",
    "print(ytrain)"
   ]
  },
  {
   "cell_type": "code",
   "execution_count": 21,
   "metadata": {
    "execution": {
     "iopub.execute_input": "2024-03-18T18:21:17.080189Z",
     "iopub.status.busy": "2024-03-18T18:21:17.079339Z",
     "iopub.status.idle": "2024-03-18T18:21:17.089754Z",
     "shell.execute_reply": "2024-03-18T18:21:17.088628Z",
     "shell.execute_reply.started": "2024-03-18T18:21:17.080152Z"
    }
   },
   "outputs": [],
   "source": [
    "import numpy as np\n",
    "from jax.tree_util import tree_map\n",
    "from torch.utils import data\n",
    "from torchvision.datasets import MNIST\n",
    "import tensorflow as tf\n",
    "\n",
    "def numpy_collate(batch):\n",
    "  return tree_map(np.asarray, data.default_collate(batch))\n",
    "\n",
    "class NumpyLoader(data.DataLoader):\n",
    "  def __init__(self, dataset, batch_size=1,\n",
    "                shuffle=False, sampler=None,\n",
    "                batch_sampler=None, num_workers=0,\n",
    "                pin_memory=False, drop_last=True,\n",
    "                timeout=0, worker_init_fn=None):\n",
    "    super(self.__class__, self).__init__(dataset,\n",
    "        batch_size=batch_size,\n",
    "        shuffle=shuffle,\n",
    "        sampler=sampler,\n",
    "        batch_sampler=batch_sampler,\n",
    "        num_workers=num_workers,\n",
    "        collate_fn=numpy_collate,\n",
    "        pin_memory=pin_memory,\n",
    "        drop_last=drop_last,\n",
    "        timeout=timeout,\n",
    "        worker_init_fn=worker_init_fn)\n",
    "\n",
    "class FlattenAndCast(object):\n",
    "  def __call__(self, pic):\n",
    "    return np.ravel(np.array(pic, dtype=jnp.float32))"
   ]
  },
  {
   "cell_type": "code",
   "execution_count": 22,
   "metadata": {
    "execution": {
     "iopub.execute_input": "2024-03-18T18:21:17.277463Z",
     "iopub.status.busy": "2024-03-18T18:21:17.276888Z",
     "iopub.status.idle": "2024-03-18T18:21:17.282639Z",
     "shell.execute_reply": "2024-03-18T18:21:17.281316Z",
     "shell.execute_reply.started": "2024-03-18T18:21:17.277437Z"
    }
   },
   "outputs": [],
   "source": [
    "#mnist_dataset = MNIST('/tmp/mnist/', download=True, transform=FlattenAndCast())\n",
    "pflotran_dataset = VelDatasetJAX(xtrain, ytrain)\n",
    "batch_size=8\n",
    "training_generator = NumpyLoader(pflotran_dataset, batch_size=batch_size, num_workers=0, drop_last=True)"
   ]
  },
  {
   "cell_type": "code",
   "execution_count": 24,
   "metadata": {
    "execution": {
     "iopub.execute_input": "2024-03-18T18:21:42.721562Z",
     "iopub.status.busy": "2024-03-18T18:21:42.721142Z",
     "iopub.status.idle": "2024-03-18T18:21:44.662185Z",
     "shell.execute_reply": "2024-03-18T18:21:44.661216Z",
     "shell.execute_reply.started": "2024-03-18T18:21:42.721531Z"
    }
   },
   "outputs": [
    {
     "name": "stdout",
     "output_type": "stream",
     "text": [
      "torch.Size([3, 32, 224, 224])\n",
      "torch.Size([3, 32, 224, 224])\n",
      "torch.Size([3, 32, 224, 224])\n",
      "torch.Size([3, 32, 224, 224])\n",
      "torch.Size([3, 32, 224, 224])\n",
      "torch.Size([3, 32, 224, 224])\n",
      "torch.Size([3, 32, 224, 224])\n",
      "torch.Size([3, 32, 224, 224])\n"
     ]
    },
    {
     "data": {
      "text/plain": [
       "tf.float32"
      ]
     },
     "execution_count": 24,
     "metadata": {},
     "output_type": "execute_result"
    }
   ],
   "source": [
    "x,y=next(iter(training_generator))\n",
    "x = tf.cast(x, tf.float32)\n",
    "x.dtype"
   ]
  },
  {
   "cell_type": "code",
   "execution_count": 16,
   "metadata": {
    "execution": {
     "iopub.execute_input": "2024-02-28T01:57:44.738752Z",
     "iopub.status.busy": "2024-02-28T01:57:44.738385Z",
     "iopub.status.idle": "2024-02-28T01:57:44.743602Z",
     "shell.execute_reply": "2024-02-28T01:57:44.742317Z",
     "shell.execute_reply.started": "2024-02-28T01:57:44.738719Z"
    }
   },
   "outputs": [],
   "source": [
    "# # Get the full train dataset (for checking accuracy while training)\n",
    "# train_images = np.array(mnist_dataset.train_data).reshape(len(mnist_dataset.train_data), -1)\n",
    "# train_labels = one_hot(np.array(mnist_dataset.train_labels), n_targets)\n",
    "\n",
    "# # Get full test dataset\n",
    "# mnist_dataset_test = MNIST('/tmp/mnist/', download=True, train=False)\n",
    "# test_images = jnp.array(mnist_dataset_test.test_data.numpy().reshape(len(mnist_dataset_test.test_data), -1), dtype=jnp.float32)\n",
    "# test_labels = one_hot(np.array(mnist_dataset_test.test_labels), n_targets)"
   ]
  },
  {
   "cell_type": "code",
   "execution_count": 1,
   "metadata": {
    "execution": {
     "iopub.execute_input": "2024-02-28T03:06:12.393777Z",
     "iopub.status.busy": "2024-02-28T03:06:12.393365Z",
     "iopub.status.idle": "2024-02-28T03:06:16.427256Z",
     "shell.execute_reply": "2024-02-28T03:06:16.426035Z",
     "shell.execute_reply.started": "2024-02-28T03:06:12.393746Z"
    }
   },
   "outputs": [
    {
     "ename": "NameError",
     "evalue": "name 'params' is not defined",
     "output_type": "error",
     "traceback": [
      "\u001b[0;31m---------------------------------------------------------------------------\u001b[0m",
      "\u001b[0;31mNameError\u001b[0m                                 Traceback (most recent call last)",
      "Cell \u001b[0;32mIn[1], line 5\u001b[0m\n\u001b[1;32m      2\u001b[0m \u001b[38;5;28;01mimport\u001b[39;00m \u001b[38;5;21;01moptax\u001b[39;00m \n\u001b[1;32m      4\u001b[0m optimizer \u001b[38;5;241m=\u001b[39m optax\u001b[38;5;241m.\u001b[39madam(learning_rate\u001b[38;5;241m=\u001b[39m\u001b[38;5;241m.0004\u001b[39m)\n\u001b[0;32m----> 5\u001b[0m opt_state \u001b[38;5;241m=\u001b[39m optimizer\u001b[38;5;241m.\u001b[39minit(\u001b[43mparams\u001b[49m)\n\u001b[1;32m      7\u001b[0m \u001b[38;5;28;01mfor\u001b[39;00m epoch \u001b[38;5;129;01min\u001b[39;00m \u001b[38;5;28mrange\u001b[39m(num_epochs):\n\u001b[1;32m      8\u001b[0m   start_time \u001b[38;5;241m=\u001b[39m time\u001b[38;5;241m.\u001b[39mtime()\n",
      "\u001b[0;31mNameError\u001b[0m: name 'params' is not defined"
     ]
    }
   ],
   "source": [
    "import time\n",
    "import optax \n",
    "\n",
    "optimizer = optax.adam(learning_rate=.0004)\n",
    "opt_state = optimizer.init(params)\n",
    "\n",
    "for epoch in range(num_epochs):\n",
    "  start_time = time.time()\n",
    "  for x, y in training_generator:\n",
    "    #y = one_hot(y, n_targets)\n",
    "    params, opt_state, loss_val =  update(params, opt_state, x, y)\n",
    "    epoch_time = time.time() - start_time\n",
    "    #preds = batched_predict(params, x)\n",
    "    #MSE = jnp.mean(optax.l2_loss( preds, y))\n",
    "    #train_acc = accuracy(params, train_images, train_labels)\n",
    "    #test_acc = accuracy(params, test_images, test_labels)\n",
    "    print(\"Epoch {} in {:0.2f} sec\".format(epoch, epoch_time))\n",
    "    print(\"Training set loss {}\".format(loss_val))\n",
    "    #print(\"Test set accuracy {}\".format(test_acc))"
   ]
  },
  {
   "cell_type": "code",
   "execution_count": null,
   "metadata": {},
   "outputs": [],
   "source": [
    "preds = batched_predict(params, x)\n",
    "preds.shape"
   ]
  },
  {
   "cell_type": "code",
   "execution_count": 12,
   "metadata": {
    "execution": {
     "iopub.execute_input": "2024-03-18T12:40:03.665270Z",
     "iopub.status.busy": "2024-03-18T12:40:03.664897Z",
     "iopub.status.idle": "2024-03-18T12:40:03.670110Z",
     "shell.execute_reply": "2024-03-18T12:40:03.668545Z",
     "shell.execute_reply.started": "2024-03-18T12:40:03.665244Z"
    }
   },
   "outputs": [],
   "source": [
    "import matplotlib.pyplot as plt\n",
    "#plt.imshow(preds[2,110,:,:])"
   ]
  },
  {
   "cell_type": "code",
   "execution_count": 62,
   "metadata": {
    "execution": {
     "iopub.execute_input": "2024-03-18T13:02:39.134213Z",
     "iopub.status.busy": "2024-03-18T13:02:39.133426Z",
     "iopub.status.idle": "2024-03-18T13:02:39.449190Z",
     "shell.execute_reply": "2024-03-18T13:02:39.447986Z",
     "shell.execute_reply.started": "2024-03-18T13:02:39.134175Z"
    }
   },
   "outputs": [
    {
     "data": {
      "text/plain": [
       "<matplotlib.image.AxesImage at 0x7be2f7bd0490>"
      ]
     },
     "execution_count": 62,
     "metadata": {},
     "output_type": "execute_result"
    },
    {
     "data": {
      "image/png": "[encoded data removed]",
      "text/plain": [
       "<Figure size 640x480 with 1 Axes>"
      ]
     },
     "metadata": {},
     "output_type": "display_data"
    }
   ],
   "source": [
    "plt.imshow(x[0,110,:,:])"
   ]
  },
  {
   "cell_type": "code",
   "execution_count": null,
   "metadata": {},
   "outputs": [],
   "source": []
  }
 ],
 "metadata": {
  "kaggle": {
   "accelerator": "gpu",
   "dataSources": [
    {
     "datasetId": 4504358,
     "sourceId": 7713249,
     "sourceType": "datasetVersion"
    },
    {
     "modelInstanceId": 279,
     "sourceId": 381,
     "sourceType": "modelInstanceVersion"
    }
   ],
   "dockerImageVersionId": 30647,
   "isGpuEnabled": true,
   "isInternetEnabled": true,
   "language": "python",
   "sourceType": "notebook"
  },
  "kernelspec": {
   "display_name": "Python 3 (ipykernel)",
   "language": "python",
   "name": "python3"
  },
  "language_info": {
   "codemirror_mode": {
    "name": "ipython",
    "version": 3
   },
   "file_extension": ".py",
   "mimetype": "text/x-python",
   "name": "python",
   "nbconvert_exporter": "python",
   "pygments_lexer": "ipython3",
   "version": "3.11.5"
  }
 },
 "nbformat": 4,
 "nbformat_minor": 4
}
